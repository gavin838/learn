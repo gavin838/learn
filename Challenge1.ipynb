{
 "cells": [
  {
   "cell_type": "markdown",
   "metadata": {},
   "source": [
    "## Challenge 1"
   ]
  },
  {
   "cell_type": "markdown",
   "metadata": {},
   "source": [
    "Given a directed acyclic graph containing both \"supported\" and \"unsupported\" nodes, partition the graph into a list of subgraphs that contain only entirely supported or entirely unsupported nodes. \n",
    "\n",
    "Implement the following functions.\n",
    "+ Write the reverse transform, assembling a list of subgraphs that have been partitioned into a single graph. It should contains both  supported and unsupported nodes.  \n",
    " \n",
    " \n",
    "+ Write unit tests. \n",
    "\n",
    "*Represent the graph in any way you like, along with the nodes and their connections. The input and output edges of the original DAG are defined in advance as well.*"
   ]
  },
  {
   "cell_type": "code",
   "execution_count": null,
   "metadata": {},
   "outputs": [],
   "source": []
  }
 ],
 "metadata": {
  "kernelspec": {
   "display_name": "Python 3",
   "language": "python",
   "name": "python3"
  },
  "language_info": {
   "codemirror_mode": {
    "name": "ipython",
    "version": 3
   },
   "file_extension": ".py",
   "mimetype": "text/x-python",
   "name": "python",
   "nbconvert_exporter": "python",
   "pygments_lexer": "ipython3",
   "version": "3.7.4"
  }
 },
 "nbformat": 4,
 "nbformat_minor": 2
}

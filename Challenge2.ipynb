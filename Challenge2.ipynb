{
 "cells": [
  {
   "cell_type": "markdown",
   "metadata": {},
   "source": [
    "## Challenge 2"
   ]
  },
  {
   "cell_type": "markdown",
   "metadata": {},
   "source": [
    "Assume you are given a directed acyclic graph representing a flow of computations. Each node in the graph denotes some kind of computation and might take outputs of other nodes as its inputs. We make the following assumptions about the computation process: \n",
    "\n",
    "1. Execution of a node starts when all its inputs (dependencies) are ready; \n",
    "\n",
    "\n",
    "2. Execution of a node takes a known amount of time; \n",
    "\n",
    "\n",
    "3. Nodes that do not depend on each other can be executed in parallel; \n",
    "\n",
    "\n",
    "4. The data going into all input nodes (input nodes are those that do not \n",
    "\n",
    "depend on other nodes in the graph and only take data from external sources) are ready simultaneously. \n",
    "Given an output node whose result we are interested in, write a code that does the following: \n",
    "\n",
    "\n",
    "1. Determine which nodes in the graph need to be evaluated in order to get the result. Order them so that a node comes after all its dependencies. \n",
    "\n",
    "\n",
    "2. Calculate the total amount of time it takes to get the result. \n",
    "\n",
    "**Example**: \n",
    "\n",
    "The graph on the next page is a simple example of the problem. Input data are fed into the green nodes to start the computation. Numbers in the parentheses are the number of clocks to execute each node. For example, node C takes 7 clocks to compute and it depends on the results of nodes B and D. If one wants to know the result of node G, the nodes that need to be executed, in the order that dependencies come first, are: \n",
    "\n",
    "A, B, D, C, F, G \n",
    "\n",
    "You can also order them as: \n",
    "\n",
    "D, A, F, B, C, G \n",
    "\n",
    "The total number of clocks elapsed for computing the above nodes is: \n",
    "\n",
    "2 + 4 + 7 + 2 = 15 "
   ]
  },
  {
   "cell_type": "code",
   "execution_count": null,
   "metadata": {},
   "outputs": [],
   "source": []
  }
 ],
 "metadata": {
  "kernelspec": {
   "display_name": "Python 3",
   "language": "python",
   "name": "python3"
  },
  "language_info": {
   "codemirror_mode": {
    "name": "ipython",
    "version": 3
   },
   "file_extension": ".py",
   "mimetype": "text/x-python",
   "name": "python",
   "nbconvert_exporter": "python",
   "pygments_lexer": "ipython3",
   "version": "3.7.4"
  }
 },
 "nbformat": 4,
 "nbformat_minor": 2
}
